{
 "cells": [
  {
   "cell_type": "markdown",
   "metadata": {},
   "source": [
    "# Step-by-Step Guide to Bitcoin Block Confirmation with Python\n",
    "\n",
    "This guide serves as a self-teaching material for [Bitcoin](https://github.com/bitcoin/bitcoin) as well as [Jupyter Notebook](https://github.com/jupyter/notebook). Implementation is done in the most explicit way possible.\n",
    "\n",
    "### Background\n",
    "\n",
    "A Bitcoin block contains a magic number, the block size, a header, the transaction counter and the transaction list. Only the hash of the header will be used for hashing confirmation even though the transactions are put outside of the head. This is not a problem as Merkle root hash inside the header serves as a proof for the transactions in the block.\n",
    "\n",
    "The size limit of a block is 1 megabyte (takes roughly 4000 transactions) and a block takes, on average, 10 minutes to be created with a right 'nonce' value.\n",
    "\n",
    "The confirmation of a transaction depends on the number of blocks which contain that transaction (6 being the recommended minimum). These transactions must have the right 'nonce' value at the end of their headers to be able to confirm a transaction. 'Nonce' is a number that makes the hash of the header smaller than the hash 'target' which is also included in the header. Some people simply refer to the number of zeroes at the beginning of the hash to refer the difficulty of a certain block. \n",
    "\n",
    "Our aim is to confirm the hash of a block header. And then find the 'nonce' of a fictional block. Please note that confirming a real Bitcoin block on a generic laptop has become next to impossible (worst-case: 90+ years) due to the increasing difficulty. Our fictional block will contain a higher target to make calculation period shorter.\n",
    "\n",
    "### Content of a block header\n",
    "\n",
    "The header totals up to 80 bytes and consists of six parts . These are;\n",
    "\n",
    "Block version number (4-byte integer) <br/>\n",
    "Previous block hash (32-byte hex string) <br/>\n",
    "Merkle root hash (32-byte hex string) <br/>\n",
    "Time in seconds (4-byte integer) <br/>\n",
    "Current target (4-byte integer) <br/>\n",
    "Nonce (4-byte integer) \n",
    "\n",
    "Below variables are set with the information from [genesis block](https://en.bitcoin.it/wiki/Genesis_block) (first block ever created)"
   ]
  },
  {
   "cell_type": "code",
   "execution_count": 20,
   "metadata": {},
   "outputs": [],
   "source": [
    "from hashlib import sha256\n",
    "import binascii\n",
    "\n",
    "\n",
    "version = 1\n",
    "prev_block_hash = \"0000000000000000000000000000000000000000000000000000000000000000\" # Zeroes since there is no previous block\n",
    "merkle_root = \"4a5e1e4baab89f3a32518a88c31bc87f618f76673e2cc77ab2127b7afdeda33b\" # Hash of all transactions related to this block\n",
    "time = 1231006505 # 3 Jan 2009\n",
    "current_target = 486604799 # This is decimal, but might be shown in hexadecimal in some sources.\n",
    "nonce = 2083236893 # The value calculated by Satoshi Nakamoto for this block\n",
    "\n"
   ]
  },
  {
   "cell_type": "markdown",
   "metadata": {},
   "source": [
    "### Little endian transformation"
   ]
  },
  {
   "cell_type": "code",
   "execution_count": 21,
   "metadata": {},
   "outputs": [],
   "source": [
    "#return data in hex format \n",
    "#it just reverses the string and then swap the places of 2 bytes (ABCD12 becomes 12CDAB).\n",
    "def hex_endian(string_hex):\n",
    "    rev_str = string_hex[::-1]\n",
    "    result = \"\"\n",
    "    for i in range(0, len(rev_str), 2):\n",
    "        result += rev_str[i+1] + rev_str[i]\n",
    "    return result\n",
    "\n",
    "\n",
    "#return data in hex format\n",
    "#when input is 1 it gradually turns into > 0x01 > 01 > 000000 + 01 > 00000001 > \"01000000\"\n",
    "def int_endian(integer_raw):\n",
    "    integer_hex_unpadded = hex(integer_raw)[2::]\n",
    "    integer_hex = (8 - len(integer_hex_unpadded)) * \"0\" + integer_hex_unpadded \n",
    "    return hex_endian(integer_hex)\n",
    "\n",
    "\n",
    "header = (int_endian(version) + hex_endian(prev_block_hash) + hex_endian(merkle_root) + int_endian(time) \\\n",
    "          + int_endian(current_target) + int_endian(nonce))\n",
    "\n"
   ]
  },
  {
   "cell_type": "markdown",
   "metadata": {},
   "source": [
    "### SHA256 applied twice"
   ]
  },
  {
   "cell_type": "code",
   "execution_count": 22,
   "metadata": {},
   "outputs": [
    {
     "name": "stdout",
     "output_type": "stream",
     "text": [
      "Full header is :\n",
      "0100000000000000000000000000000000000000000000000000000000000000000000003ba3edfd7a7b12b27ac72c3e67768f617fc81bc3888a51323a9fb8aa4b1e5e4a29ab5f49ffff001d1dac2b7c\n"
     ]
    }
   ],
   "source": [
    "print(\"Full header is :\\n\" + header)\n",
    "header_bin = binascii.unhexlify(header) # header.decode('hex') in python2\n",
    "\n",
    "first_hash_bin = sha256(header_bin).digest()\n",
    "reversed_final_hash_hex = sha256(first_hash_bin).hexdigest()\n",
    "final_hash_hex = hex_endian(reversed_final_hash_hex)\n"
   ]
  },
  {
   "cell_type": "markdown",
   "metadata": {},
   "source": [
    "### Hash compared to the target value\n",
    "\n",
    "\n",
    "Bitcoin target number uses an very compact notation. First two digits in the hexadecimal form gives the number of zeroes on the right. This is then attached to the remaining 6 digits and then the number is padded with zeroes on the left side until it has 64 digits. The function \"convert_target\" takes \"target\" in the integer format because our data source provide this way.\n",
    "            "
   ]
  },
  {
   "cell_type": "code",
   "execution_count": 23,
   "metadata": {},
   "outputs": [
    {
     "name": "stdout",
     "output_type": "stream",
     "text": [
      "Resulting hash : 000000000019d6689c085ae165831e934ff763ae46a2a6c172b3f1b60a8ce26f\n",
      "Target         : 00000000ffff0000000000000000000000000000000000000000000000000000\n",
      "The block is confirmed.\n"
     ]
    }
   ],
   "source": [
    "#convert target from compact form to full form\n",
    "def convert_target(target):\n",
    "    target_hex = hex(target)[2:]\n",
    "    right_padding = 2 * int(target_hex[:2], 16) - 6\n",
    "    left_padding = 64 - 6 - right_padding\n",
    "    result = left_padding * \"0\" + target_hex[2:8] + right_padding * \"0\"\n",
    "    \n",
    "    print(\"Resulting hash : \" + final_hash_hex)\n",
    "    print(\"Target         : \" + result)\n",
    "    return result\n",
    "\n",
    "if(int(final_hash_hex, 16) < int(convert_target(current_target), 16 )):\n",
    "    print(\"The block is confirmed.\")\n",
    "else:\n",
    "    print(\"The block cannot be confirmed.\")\n",
    "    "
   ]
  },
  {
   "cell_type": "markdown",
   "metadata": {},
   "source": [
    "Hash of the block is lower than the target. With this, our result is confirmed."
   ]
  }
 ],
 "metadata": {
  "kernelspec": {
   "display_name": "Python 3",
   "language": "python",
   "name": "python3"
  },
  "language_info": {
   "codemirror_mode": {
    "name": "ipython",
    "version": 3
   },
   "file_extension": ".py",
   "mimetype": "text/x-python",
   "name": "python",
   "nbconvert_exporter": "python",
   "pygments_lexer": "ipython3",
   "version": "3.6.3"
  }
 },
 "nbformat": 4,
 "nbformat_minor": 2
}
